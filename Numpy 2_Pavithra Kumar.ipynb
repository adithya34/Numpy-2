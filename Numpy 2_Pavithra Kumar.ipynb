{
 "cells": [
  {
   "cell_type": "code",
   "execution_count": 30,
   "metadata": {
    "collapsed": true
   },
   "outputs": [],
   "source": [
    "def moving_average_windows(seq, k): # Define a function moving_average_windows which takes a sequence and window_size 'k'\n",
    "    cumsum, moving_average = [0], []     # Initialize cumulative sum as list of zero and moving_average as empty list\n",
    "\n",
    "    for i, s in enumerate(seq, 1):  # Traverse through a list of tuples of the form [(1,seq[0]),(2,seq[1]),....]\n",
    "        cumsum.append(cumsum[i-1] + s)  # Append i-1 element of cumsum with that element in sequence\n",
    "        if i>=k:                        # Check if window_size is not exceeded for this iteration\n",
    "            window_average = (cumsum[i] - cumsum[i-k])/k # Subtract first and last item of the range of window_size,divide by k\n",
    "            moving_average.append(window_average)  # Append this window_average to the moving_average list\n",
    "    return moving_average                          # Return moving_average"
   ]
  },
  {
   "cell_type": "code",
   "execution_count": 31,
   "metadata": {},
   "outputs": [
    {
     "name": "stdout",
     "output_type": "stream",
     "text": [
      "[5.0, 4.666666666666667, 5.666666666666667, 6.666666666666667, 9.666666666666666, 28.666666666666668, 49.333333333333336, 72.66666666666667, 84.0, 93.33333333333333, 116.33333333333333]\n"
     ]
    }
   ],
   "source": [
    "print(moving_average_windows([3, 5, 7, 2, 8, 10, 11, 65, 72, 81, 99, 100, 150],3))"
   ]
  },
  {
   "cell_type": "code",
   "execution_count": null,
   "metadata": {
    "collapsed": true
   },
   "outputs": [],
   "source": []
  }
 ],
 "metadata": {
  "kernelspec": {
   "display_name": "Python 3",
   "language": "python",
   "name": "python3"
  },
  "language_info": {
   "codemirror_mode": {
    "name": "ipython",
    "version": 3
   },
   "file_extension": ".py",
   "mimetype": "text/x-python",
   "name": "python",
   "nbconvert_exporter": "python",
   "pygments_lexer": "ipython3",
   "version": "3.6.2"
  }
 },
 "nbformat": 4,
 "nbformat_minor": 2
}
